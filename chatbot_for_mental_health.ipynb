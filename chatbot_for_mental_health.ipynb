{
  "cells": [
    {
      "cell_type": "code",
      "execution_count": 1,
      "metadata": {
        "colab": {
          "base_uri": "https://localhost:8080/"
        },
        "id": "MvScS8f14D_a",
        "outputId": "408957bf-b80c-4d57-ce5b-913c7fffae7a"
      },
      "outputs": [
        {
          "name": "stdout",
          "output_type": "stream",
          "text": [
            "WARNING:tensorflow:From c:\\Users\\shiva kumar\\AppData\\Local\\Programs\\Python\\Python311\\Lib\\site-packages\\keras\\src\\losses.py:2976: The name tf.losses.sparse_softmax_cross_entropy is deprecated. Please use tf.compat.v1.losses.sparse_softmax_cross_entropy instead.\n",
            "\n"
          ]
        },
        {
          "name": "stderr",
          "output_type": "stream",
          "text": [
            "[nltk_data] Downloading package punkt to C:\\Users\\shiva\n",
            "[nltk_data]     kumar\\AppData\\Roaming\\nltk_data...\n",
            "[nltk_data]   Unzipping tokenizers\\punkt.zip.\n"
          ]
        },
        {
          "name": "stdout",
          "output_type": "stream",
          "text": [
            "232 documents\n",
            "80 classes ['about', 'afternoon', 'anxious', 'ask', 'casual', 'creation', 'death', 'default', 'depressed', 'done', 'evening', 'fact-1', 'fact-10', 'fact-11', 'fact-12', 'fact-13', 'fact-14', 'fact-15', 'fact-16', 'fact-17', 'fact-18', 'fact-19', 'fact-2', 'fact-20', 'fact-21', 'fact-22', 'fact-23', 'fact-24', 'fact-25', 'fact-26', 'fact-27', 'fact-28', 'fact-29', 'fact-3', 'fact-30', 'fact-31', 'fact-32', 'fact-5', 'fact-6', 'fact-7', 'fact-8', 'fact-9', 'friends', 'goodbye', 'greeting', 'happy', 'hate-me', 'hate-you', 'help', 'jokes', 'learn-mental-health', 'learn-more', 'location', 'meditation', 'mental-health-fact', 'morning', 'name', 'neutral-response', 'night', 'no-approach', 'no-response', 'not-talking', 'pandora-useful', 'problem', 'repeat', 'sad', 'scared', 'skill', 'sleep', 'something-else', 'stressed', 'stupid', 'suicide', 'thanks', 'understand', 'user-advice', 'user-agree', 'user-meditation', 'worthless', 'wrong']\n",
            "279 unique stemmed words [\"'ll\", \"'m\", \"'re\", \"'s\", \"'ve\", ',', '.', 'a', 'about', 'absolv', 'adv', 'affect', 'afternoon', 'again', 'al', 'alot', 'already', 'am', 'and', 'anoth', 'answ', 'anxy', 'any', 'anym', 'anyon', 'anyth', 'appear', 'approach', 'ar', 'ask', 'au', 'avail', 'aw', 'away', 'be', 'becaus', 'becom', 'bef', 'bet', 'between', 'bonjo', 'boyfriend', 'break', 'bring', 'broth', 'burn', 'by', 'bye', 'ca', 'cal', 'can', 'caus', 'che', 'child', 'commit', 'connect', 'continu', 'control', 'could', 'crazy', 'cre', 'cur', 'dad', 'day', 'defin', 'depress', 'deserv', 'did', 'die', 'died', 'diff', 'disord', 'do', 'doe', 'down', 'dumb', 'els', 'empty', 'enough', 'ev', 'exam', 'fact', 'famy', 'far', 'feel', 'few', 'fin', 'find', 'foc', 'for', 'friend', 'from', 'get', 'girlfriend', 'giv', 'go', 'going', 'good', 'goodby', 'gre', 'group', 'guess', 'gut', 'had', 'hand', 'happy', 'hat', 'hav', 'heal', 'hello', 'help', 'hey', 'hi', 'hmmm', 'hol', 'how', 'howdy', 'i', 'if', 'il', 'import', 'in', 'insomin', 'insomn', 'interest', 'involv', 'is', 'it', 'jok', 'just', 'k', 'kil', 'know', 'konnichiw', 'last', 'lat', 'learn', 'let', 'lik', 'liv', 'loc', 'lon', 'mad', 'maintain', 'mak', 'me', 'mean', 'med', 'medit', 'ment', 'mom', 'money', 'mor', 'morn', 'much', 'my', 'myself', \"n't\", 'nam', 'nee', 'new', 'nic', 'night', 'no', 'nobody', 'not', 'noth', 'now', 'of', 'oh', 'ok', 'okay', 'ol', 'on', 'op', 'opt', 'or', 'out', 'pass', 'past', 'peopl', 'pleas', 'poss', 'pract', 'prep', 'prev', 'prob', 'problem', 'profess', 'prop', 'real', 'recov', 'rel', 'rep', 'respons', 'revoir', 'right', 'robot', 'sad', 'said', 'say', 'sayonar', 'scar', 'see', 'seem', 'sens', 'should', 'shut', 'sign', 'sist', 'sleep', 'slept', 'so', 'soc', 'som', 'someon', 'someth', 'sound', 'start', 'stay', 'stil', 'stress', 'stressed', 'stuck', 'stupid', 'suff', 'suicid', 'support', 'sur', 'symptom', 'tag', 'tak', 'talk', 'tel', 'than', 'thank', 'that', 'the', 'then', 'ther', 'therap', 'therapy', 'thi', 'think', 'thought', 'through', 'to', 'today', 'told', 'tre', 'trust', 'typ', 'understand', 'unwel', 'up', 'us', 'useless', 'very', 'want', 'warn', 'way', 'we', 'wel', 'wer', 'what', 'whatev', 'wher', 'who', 'why', 'with', 'worry', 'worthless', 'would', 'wrong', 'ye', 'yeah', 'yo', 'you', 'yourself']\n"
          ]
        },
        {
          "ename": "ValueError",
          "evalue": "setting an array element with a sequence. The requested array has an inhomogeneous shape after 2 dimensions. The detected shape was (232, 2) + inhomogeneous part.",
          "output_type": "error",
          "traceback": [
            "\u001b[1;31m---------------------------------------------------------------------------\u001b[0m",
            "\u001b[1;31mValueError\u001b[0m                                Traceback (most recent call last)",
            "Cell \u001b[1;32mIn[1], line 78\u001b[0m\n\u001b[0;32m     76\u001b[0m \u001b[38;5;66;03m# shuffle our features and turn into np.array\u001b[39;00m\n\u001b[0;32m     77\u001b[0m random\u001b[38;5;241m.\u001b[39mshuffle(training)\n\u001b[1;32m---> 78\u001b[0m training \u001b[38;5;241m=\u001b[39m \u001b[43mnp\u001b[49m\u001b[38;5;241;43m.\u001b[39;49m\u001b[43marray\u001b[49m\u001b[43m(\u001b[49m\u001b[43mtraining\u001b[49m\u001b[43m)\u001b[49m\n\u001b[0;32m     80\u001b[0m \u001b[38;5;66;03m# create train and test lists. X - patterns, Y - intents\u001b[39;00m\n\u001b[0;32m     81\u001b[0m train_x \u001b[38;5;241m=\u001b[39m \u001b[38;5;28mlist\u001b[39m(training[:,\u001b[38;5;241m0\u001b[39m])\n",
            "\u001b[1;31mValueError\u001b[0m: setting an array element with a sequence. The requested array has an inhomogeneous shape after 2 dimensions. The detected shape was (232, 2) + inhomogeneous part."
          ]
        }
      ],
      "source": [
        "# things we need for NLP\n",
        "import nltk\n",
        "from nltk.stem.lancaster import LancasterStemmer\n",
        "stemmer = LancasterStemmer()\n",
        "\n",
        "# things we need for Tensorflow\n",
        "import numpy as np\n",
        "from keras.models import Sequential\n",
        "from keras.layers import Dense, Activation, Dropout\n",
        "from tensorflow.keras.optimizers import SGD\n",
        "import pandas as pd\n",
        "import pickle\n",
        "import random\n",
        "import json\n",
        "\n",
        "with open(\"final-intents.json\") as file:\n",
        "  data = json.load(file)\n",
        "\n",
        "\n",
        "words = []\n",
        "classes = []\n",
        "documents = []\n",
        "ignore_words = ['?']\n",
        "nltk.download('punkt')\n",
        "# loop through each sentence in our intents patterns\n",
        "for intent in data['intents']:\n",
        "    for pattern in intent['patterns']:\n",
        "        # tokenize each word in the sentence\n",
        "        w = nltk.word_tokenize(pattern)\n",
        "        # add to our words list\n",
        "        words.extend(w)\n",
        "        # add to documents in our corpus\n",
        "        documents.append((w, intent['tag']))\n",
        "        # add to our classes list\n",
        "        if intent['tag'] not in classes:\n",
        "            classes.append(intent['tag'])\n",
        "\n",
        "# stem and lower each word and remove duplicates\n",
        "words = [stemmer.stem(w.lower()) for w in words if w not in ignore_words]\n",
        "words = sorted(list(set(words)))\n",
        "\n",
        "# sort classes\n",
        "classes = sorted(list(set(classes)))\n",
        "\n",
        "# documents = combination between patterns and intents\n",
        "print (len(documents), \"documents\")\n",
        "# classes = intents\n",
        "print (len(classes), \"classes\", classes)\n",
        "# words = all words, vocabulary\n",
        "print (len(words), \"unique stemmed words\", words)\n",
        "\n",
        "\n",
        "# create our training data\n",
        "training = []\n",
        "# create an empty array for our output\n",
        "output_empty = [0] * len(classes)\n",
        "\n",
        "# training set, bag of words for each sentence\n",
        "for doc in documents:\n",
        "    # initialize our bag of words\n",
        "    bag = []\n",
        "    # list of tokenized words for the pattern\n",
        "    pattern_words = doc[0]\n",
        "    # stem each word - create base word, in attempt to represent related words\n",
        "    pattern_words = [stemmer.stem(word.lower()) for word in pattern_words]\n",
        "    # create our bag of words array with 1, if word match found in current pattern\n",
        "    for w in words:\n",
        "        bag.append(1) if w in pattern_words else bag.append(0)\n",
        "\n",
        "    # output is a '0' for each tag and '1' for current tag (for each pattern)\n",
        "    output_row = list(output_empty)\n",
        "    output_row[classes.index(doc[1])] = 1\n",
        "\n",
        "    training.append([bag, output_row])\n",
        "\n",
        "# shuffle our features and turn into np.array\n",
        "random.shuffle(training)\n",
        "training = np.array(training)\n",
        "\n",
        "# create train and test lists. X - patterns, Y - intents\n",
        "train_x = list(training[:,0])\n",
        "train_y = list(training[:,1])\n",
        "\n",
        "\n",
        "# Create model - 3 layers. First layer 128 neurons, second layer 64 neurons and 3rd output layer contains number of neurons\n",
        "# equal to number of intents to predict output intent with softmax\n",
        "model = Sequential()\n",
        "model.add(Dense(128, input_shape=(len(train_x[0]),), activation='relu'))\n",
        "model.add(Dropout(0.5))\n",
        "model.add(Dense(64, activation='relu'))\n",
        "model.add(Dropout(0.5))\n",
        "model.add(Dense(len(train_y[0]), activation='softmax'))\n",
        "\n",
        "\n",
        "# Compile model. Stochastic gradient descent with Nesterov accelerated gradient gives good results for this model\n",
        "sgd = SGD(learning_rate=0.01)\n",
        "model.compile(loss='categorical_crossentropy', optimizer=sgd, metrics=['accuracy'])\n",
        "\n",
        "# Fit the model\n",
        "model.fit(np.array(train_x), np.array(train_y), epochs=200, batch_size=5, verbose=1)\n",
        "\n"
      ]
    },
    {
      "cell_type": "code",
      "execution_count": null,
      "metadata": {
        "colab": {
          "background_save": true,
          "base_uri": "https://localhost:8080/"
        },
        "id": "7FSQATs45TWm",
        "outputId": "658b27fb-bcf3-44e6-9b81-83625b756baf"
      },
      "outputs": [
        {
          "name": "stdout",
          "output_type": "stream",
          "text": [
            "Start talking with the bot!\n",
            "1/1 [==============================] - 0s 58ms/step\n",
            "I don't answer general questions\n",
            "1/1 [==============================] - 0s 19ms/step\n",
            "I don't answer general questions\n"
          ]
        }
      ],
      "source": [
        "def clean_up_sentence(sentence):\n",
        "    # tokenize the pattern - split words into array\n",
        "    sentence_words = nltk.word_tokenize(sentence)\n",
        "    # stem each word - create short form for word\n",
        "    sentence_words = [stemmer.stem(word.lower()) for word in sentence_words]\n",
        "    return sentence_words\n",
        "\n",
        "# return bag of words array: 0 or 1 for each word in the bag that exists in the sentence\n",
        "def bow(sentence, words, show_details=False):\n",
        "    # tokenize the pattern\n",
        "    sentence_words = clean_up_sentence(sentence)\n",
        "    # bag of words - matrix of N words, vocabulary matrix\n",
        "    bag = [0]*len(words)\n",
        "    for s in sentence_words:\n",
        "        for i,w in enumerate(words):\n",
        "            if w == s:\n",
        "                # assign 1 if current word is in the vocabulary position\n",
        "                bag[i] = 1\n",
        "                if show_details:\n",
        "                    print (\"found in bag: %s\" % w)\n",
        "\n",
        "    return(np.array(bag))\n",
        "\n",
        "def chat():\n",
        "  print(\"Start talking with the bot!\")\n",
        "  while True:\n",
        "    inp = input(\"You: \")\n",
        "    if inp.lower() == \"quit\":\n",
        "      break\n",
        "    input_data = pd.DataFrame([bow(inp, words)], dtype=float, index=['input'])\n",
        "    results = model.predict([input_data])\n",
        "    results_index = np.argmax(results)\n",
        "    tag = classes[results_index]\n",
        "\n",
        "    for tg in data[\"intents\"]:\n",
        "      if tg['tag'] == tag:\n",
        "        responses = tg['responses']\n",
        "    print(random.choice(responses))\n",
        "\n",
        "chat()"
      ]
    }
  ],
  "metadata": {
    "colab": {
      "provenance": []
    },
    "kernelspec": {
      "display_name": "Python 3",
      "name": "python3"
    },
    "language_info": {
      "codemirror_mode": {
        "name": "ipython",
        "version": 3
      },
      "file_extension": ".py",
      "mimetype": "text/x-python",
      "name": "python",
      "nbconvert_exporter": "python",
      "pygments_lexer": "ipython3",
      "version": "3.11.4"
    }
  },
  "nbformat": 4,
  "nbformat_minor": 0
}
